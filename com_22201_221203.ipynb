{
  "nbformat": 4,
  "nbformat_minor": 0,
  "metadata": {
    "colab": {
      "provenance": [],
      "authorship_tag": "ABX9TyNAR8ze0b4KWWld1c9aDocI",
      "include_colab_link": true
    },
    "kernelspec": {
      "name": "python3",
      "display_name": "Python 3"
    },
    "language_info": {
      "name": "python"
    }
  },
  "cells": [
    {
      "cell_type": "markdown",
      "metadata": {
        "id": "view-in-github",
        "colab_type": "text"
      },
      "source": [
        "<a href=\"https://colab.research.google.com/github/22jeongyeon/com_221203/blob/main/com_22201_221203.ipynb\" target=\"_parent\"><img src=\"https://colab.research.google.com/assets/colab-badge.svg\" alt=\"Open In Colab\"/></a>"
      ]
    },
    {
      "cell_type": "code",
      "execution_count": 2,
      "metadata": {
        "colab": {
          "base_uri": "https://localhost:8080/"
        },
        "id": "LCNhNeTAn18U",
        "outputId": "da4bcb06-89d3-4531-dfb1-22703b3f58a2"
      },
      "outputs": [
        {
          "output_type": "stream",
          "name": "stdout",
          "text": [
            "홀/짝을 맞히세요.\n",
            "1.홀수, 2.짝수 (1. 또는 2. 를 입력하세요.) - 22\n",
            "맞혔습니다.\n",
            "난수 :  76\n",
            "사용자 :  22\n"
          ]
        }
      ],
      "source": [
        "import random\n",
        "ranNum = random.randint(1, 100)\n",
        "print('홀/짝을 맞히세요.')\n",
        "userNum = int(input(\"1.홀수, 2.짝수 \" \"(1. 또는 2. 를 입력하세요.) - \"))\n",
        "#userNum = int(input('1.홀수, 2.짝수 '))\n",
        "\n",
        "if ranNum % 2 == userNum % 2:\n",
        "  print('맞혔습니다.')\n",
        "else:\n",
        "  print('틀렸습니다.')\n",
        "\n",
        "print('난수 : ', ranNum)\n",
        "print('사용자 : ', userNum)"
      ]
    },
    {
      "cell_type": "code",
      "source": [
        "morningTemp = int(input('아침 최저 기온 : '))\n",
        "afternoonTemp = int(input('오후 최고 기온 : '))\n",
        "gapTemp = afternoonTemp - morningTemp\n",
        "if gapTemp >= 10: print('감기 조심하세요.')\n",
        "elif afternoonTemp >= 28: print('초여름 날씨입니다.')"
      ],
      "metadata": {
        "colab": {
          "base_uri": "https://localhost:8080/"
        },
        "id": "Tt-jKLdsxbit",
        "outputId": "8bdad1f8-a3c6-42a4-ab7c-e901c8704a35"
      },
      "execution_count": 5,
      "outputs": [
        {
          "name": "stdout",
          "output_type": "stream",
          "text": [
            "아침 최저 기온 : 1\n",
            "오후 최고 기온 : 4\n"
          ]
        }
      ]
    }
  ]
}